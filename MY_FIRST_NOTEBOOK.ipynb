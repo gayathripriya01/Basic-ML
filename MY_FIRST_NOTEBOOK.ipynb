{
  "nbformat": 4,
  "nbformat_minor": 0,
  "metadata": {
    "colab": {
      "name": "MY FIRST NOTEBOOK",
      "provenance": [],
      "authorship_tag": "ABX9TyNEv5m+Mp+OaIasFs/jTI81",
      "include_colab_link": true
    },
    "kernelspec": {
      "name": "python3",
      "display_name": "Python 3"
    },
    "language_info": {
      "name": "python"
    }
  },
  "cells": [
    {
      "cell_type": "markdown",
      "metadata": {
        "id": "view-in-github",
        "colab_type": "text"
      },
      "source": [
        "<a href=\"https://colab.research.google.com/github/gayathripriya01/Basic-ML/blob/main/MY_FIRST_NOTEBOOK.ipynb\" target=\"_parent\"><img src=\"https://colab.research.google.com/assets/colab-badge.svg\" alt=\"Open In Colab\"/></a>"
      ]
    },
    {
      "cell_type": "markdown",
      "metadata": {
        "id": "5QOZr0sCvA8M"
      },
      "source": [
        "* EVEN OR ODD"
      ]
    },
    {
      "cell_type": "code",
      "metadata": {
        "id": "zU47ZlK6Q0sz",
        "colab": {
          "base_uri": "https://localhost:8080/"
        },
        "outputId": "4701a9be-0cff-4591-f73d-1b7b24195d94"
      },
      "source": [
        "n=int(input())\n",
        "if( n%2 == 0 ): \n",
        "   print(\"even\") \n",
        "else: \n",
        "   print(\"odd\")"
      ],
      "execution_count": null,
      "outputs": [
        {
          "output_type": "stream",
          "text": [
            "6\n",
            "even\n"
          ],
          "name": "stdout"
        }
      ]
    },
    {
      "cell_type": "markdown",
      "metadata": {
        "id": "T-PnAcNDRzE-"
      },
      "source": [
        "Explanation:\n",
        " \n",
        "1.This program is used to find whether the number is even or odd. \n",
        " \n",
        "2.First let us consider an input n. Here 'int' represents the input is an integer. \n",
        " \n",
        "3.The condition for an integer to be an even number is \"It must be divisible by 2\"and the condition for the odd number is \"It is not divisible by 2\".  \n",
        " \n",
        "4.So,I have taken the condition that is if the number is divisible by two then the output will be even and if the number is not divisible by two then the output will be odd. \n",
        " \n",
        "5.In this program I have used 'if-else' condition . \n",
        " \n",
        "6.\"print\" is used give the output. \n",
        " \n",
        "7.Here I have given input as 6 .Since 6 is even number the output printed is even."
      ]
    },
    {
      "cell_type": "markdown",
      "metadata": {
        "id": "FMgLIQBghZrV"
      },
      "source": [
        "* FACTORIAL OF A GIVEN NUMBER"
      ]
    },
    {
      "cell_type": "code",
      "metadata": {
        "colab": {
          "base_uri": "https://localhost:8080/"
        },
        "id": "hyXm4f4FhovI",
        "outputId": "1d4d0b78-0a58-483f-c1d1-a5de3dc190eb"
      },
      "source": [
        "n=int(input()) \n",
        "factorial=1 \n",
        "for i in range(1,n+1): \n",
        " factorial=factorial*i\n",
        "print(factorial)"
      ],
      "execution_count": 12,
      "outputs": [
        {
          "output_type": "stream",
          "text": [
            "6\n",
            "720\n"
          ],
          "name": "stdout"
        }
      ]
    },
    {
      "cell_type": "markdown",
      "metadata": {
        "id": "9Kz6_VIIih8k"
      },
      "source": [
        "Explanation:  \n",
        " \n",
        "1.This program is used to find the factorial of the given number. \n",
        " \n",
        "2.I have used \"for loop \" in this program . \n",
        " \n",
        "3.I have taken the required input as 'n'.Since the input is an integer, 'int' is used to represent it.  \n",
        " \n",
        "4.I have given the factorial value as 1.And 1 is stored in it.\n",
        " \n",
        "5.I have taken the range of i from 1 to (n+1) . \n",
        "  \n",
        "6.Each value of i is multiplied with the factorial which will be stored in factorial.  \n",
        " \n",
        "7.Now use the print which is used to print the factorial of the given number after the for loop is ended. \n",
        " \n",
        "8.Here I have given the input as 6 .The factorial of six is '720'.Hence the output printed is 720."
      ]
    },
    {
      "cell_type": "markdown",
      "metadata": {
        "id": "BRTMdTHXnLGk"
      },
      "source": [
        " * SUM OF FIRST 'n' NATURAL NUMBERS"
      ]
    },
    {
      "cell_type": "code",
      "metadata": {
        "colab": {
          "base_uri": "https://localhost:8080/"
        },
        "id": "CcFbopjBnbp0",
        "outputId": "a752d200-95e7-479b-d851-b2e5d26bed1b"
      },
      "source": [
        "n=int(input()) \n",
        "sum=0 \n",
        "for i in range(1,n+1):\n",
        " sum=sum+i  \n",
        " i=i+1\n",
        "print(sum)"
      ],
      "execution_count": 16,
      "outputs": [
        {
          "output_type": "stream",
          "text": [
            "6\n",
            "21\n"
          ],
          "name": "stdout"
        }
      ]
    },
    {
      "cell_type": "markdown",
      "metadata": {
        "id": "TUPaGKYsoCYn"
      },
      "source": [
        "Explanation: \n",
        " \n",
        "1.This program is used to find the sum of n natural numbers.\n",
        " \n",
        "2.\"for loop\" is used in this program. \n",
        " \n",
        "3.'n' is the input here and 'int' represents that input is an integer.  \n",
        " \n",
        "4.Here for loop is runned in the range of i from 1 to (n+1) .\n",
        " \n",
        "5.sum value is assigned as zero. \n",
        " \n",
        "6.Every value of i is multiplied with the sum .And is stored in sum. \n",
        " \n",
        "7.\"print\" is used to print the output. \n",
        " \n",
        "8.Here I have given the input as 6. Since the Sum of first 6 numbers is 21.So the output printed is 21."
      ]
    }
  ]
}